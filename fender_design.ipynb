{
 "cells": [
  {
   "cell_type": "code",
   "execution_count": 8,
   "metadata": {},
   "outputs": [],
   "source": [
    "%matplotlib widget \n",
    "\n",
    "import ipywidgets as widgets\n",
    "from IPython.display import display\n",
    "import Berthing\n",
    "import Catalogue\n",
    "from SCN import SCN\n",
    "from MV import MV\n",
    "from Pnuematic import Pnuematic\n",
    "import numpy as np\n",
    "\n",
    "def CreateComboBox(description, placeholder, options):\n",
    "    wget = widgets.Combobox(\n",
    "    placeholder=placeholder,\n",
    "    options=options,\n",
    "    description=description,\n",
    "    ensure_option=True,\n",
    "    disabled=False\n",
    "    )   \n",
    "    return wget\n",
    "\n",
    "def CreateToggleButtons(description, options):\n",
    "    wget = widgets.ToggleButtons(\n",
    "        description=description,\n",
    "        options=options,\n",
    "        disabled = False,\n",
    "        button_style = ''\n",
    "    )\n",
    "    return wget\n",
    "\n",
    "def CreateSelect(description, options, default_val=None, style=None):\n",
    "    \n",
    "    if style is None:\n",
    "        style = {\n",
    "            'description_width':'initial'\n",
    "        }        \n",
    "   \n",
    "    wget = widgets.Select(\n",
    "        description=description,\n",
    "        options=options,\n",
    "        value=default_val,\n",
    "        disabled=False,\n",
    "        style=style\n",
    "    )\n",
    "    return wget\n",
    "\n",
    "def CreateFloatText(description, default_val, style=None):\n",
    "\n",
    "    if style is None:\n",
    "        style = {\n",
    "            'description_width':'initial'\n",
    "        }    \n",
    "\n",
    "    wget = widgets.FloatText(\n",
    "        description=description,\n",
    "        value=default_val,\n",
    "        style=style,\n",
    "    )\n",
    "\n",
    "    return wget\n",
    "\n",
    "def CreateIntText(description, default_val, style=None):\n",
    "\n",
    "    if style is None:\n",
    "        style = {\n",
    "            'description_width':'initial'\n",
    "        }    \n",
    "\n",
    "    wget = widgets.IntText(\n",
    "        description=description,\n",
    "        value=default_val,\n",
    "        style=style\n",
    "    )\n",
    "\n",
    "    return wget\n",
    "\n",
    "def CreateButton(description, style=None):\n",
    "    \n",
    "    if style is None:\n",
    "        style = {\n",
    "            'description_width':'initial'\n",
    "        }        \n",
    "\n",
    "    wget = widgets.Button(\n",
    "        description=description,\n",
    "        disabled = False,\n",
    "        style=style\n",
    "    )\n",
    "    return wget\n",
    "\n",
    "def CreateSelectionSlider(description, options, default_val, style=None):\n",
    "\n",
    "    if style is None:\n",
    "        style = {\n",
    "            'description_width':'initial'\n",
    "        }\n",
    "\n",
    "    wget = widgets.SelectionSlider(\n",
    "        options=options,\n",
    "        value=default_val,\n",
    "        description=description,\n",
    "        style=style,\n",
    "        disabled=False,\n",
    "        continuous_update=False,\n",
    "        orientation='horizontal',\n",
    "        readout=True\n",
    "    )\n",
    "    return wget\n",
    "\n",
    "def CreateDropdown(description, options, default_val, style=None):\n",
    "     \n",
    "    if style is None:\n",
    "        style = {\n",
    "            'description_width':'initial'\n",
    "        }        \n",
    "   \n",
    "    wget = widgets.Dropdown(\n",
    "        description=description,\n",
    "        options=options,\n",
    "        value=default_val,\n",
    "        disabled=False,\n",
    "        style=style\n",
    "    )\n",
    "    return wget\n",
    "\n",
    "def CreateRadioButtons(description, options, default_val):\n",
    "\n",
    "    wget = widgets.RadioButtons(\n",
    "        description=description,\n",
    "        options=options,\n",
    "        value=default_val,\n",
    "        disabled=False\n",
    "    )\n",
    "\n",
    "    return wget\n",
    "\n",
    "def DisplayWidget(widgets:list):\n",
    "    \n",
    "    if widgets is list:\n",
    "        for w in widgets:\n",
    "            display(w)\n",
    "        return\n",
    "    else:\n",
    "        display(widgets)\n",
    "\n"
   ]
  },
  {
   "cell_type": "markdown",
   "metadata": {},
   "source": [
    "# Berthing Energy calculation"
   ]
  },
  {
   "cell_type": "code",
   "execution_count": 9,
   "metadata": {},
   "outputs": [
    {
     "data": {
      "application/vnd.jupyter.widget-view+json": {
       "model_id": "f15977edd40d4918bc76f95609e563be",
       "version_major": 2,
       "version_minor": 0
      },
      "text/plain": [
       "Dropdown(description='Mass coefficient method', options=('Vasco Costa', 'Shigeru', 'PIANC'), style=Description…"
      ]
     },
     "metadata": {},
     "output_type": "display_data"
    },
    {
     "data": {
      "application/vnd.jupyter.widget-view+json": {
       "model_id": "05f17c51627d4389a54613248350eabb",
       "version_major": 2,
       "version_minor": 0
      },
      "text/plain": [
       "Accordion(children=(VBox(children=(FloatText(value=0.0, description='Berthing angle [°]:', style=DescriptionSt…"
      ]
     },
     "metadata": {},
     "output_type": "display_data"
    }
   ],
   "source": [
    "\n",
    "mass_calc_w = CreateDropdown('Mass coefficient method',['Vasco Costa','Shigeru','PIANC'],'Vasco Costa')\n",
    "DisplayWidget(mass_calc_w)\n",
    "\n",
    "berthing_pt_options = [\n",
    "    \"1/6 point\",\n",
    "    \"1/5 point\",\n",
    "    \"1/4 point\",\n",
    "    \"1/3 point\"\n",
    "]\n",
    "\n",
    "style = {\n",
    "    \"description_width\": \"intial\"\n",
    "}\n",
    "\n",
    "#Berthing event parameters\n",
    "berthing_angle_w = CreateFloatText(\"Berthing angle [°]:\", 0.0)\n",
    "velocity_w = CreateFloatText(\"Berthing velocity [m/s]:\", 0.01)\n",
    "velocity_angle_w = CreateFloatText(\"Velocity angle [°]:\", 0.0)\n",
    "berthing_point_w = CreateSelectionSlider(\"Berthing point:\",berthing_pt_options, \"1/4 point\")\n",
    "\n",
    "berthing_event_container = widgets.VBox([berthing_angle_w, velocity_w, velocity_angle_w, berthing_point_w])\n",
    "\n",
    "#Vessel parameters\n",
    "displacement_w = CreateIntText(\"Displacement [t]:\", 0)\n",
    "LBP_w = CreateFloatText(\"LBP [m]:\",0.0)\n",
    "beam_w = CreateFloatText(\"Beam [m]:\",0.0)\n",
    "draft_w = CreateFloatText(\"Draft [m]:\",0.0)\n",
    "UKC_w = CreateFloatText(\"UKC [m]:\",0.0)\n",
    "hull_radius_w = CreateFloatText(\"Hull radius [m]:\", 0.0)\n",
    "\n",
    "vessel_container = widgets.VBox([displacement_w,LBP_w, beam_w, draft_w, UKC_w, hull_radius_w])\n",
    "\n",
    "#Berthing coefficients\n",
    "softness_coefficient_w = CreateFloatText(\"Softness coefficient [Cs]:\", 1.0)\n",
    "configuration_coefficient_w = CreateFloatText(\"Configuration coefficient [Cc]:\",1.0)\n",
    "abnormal_factor_w = CreateFloatText(\"Abnormal Factor:\", 2.0)\n",
    "coefficients_container = widgets.VBox([abnormal_factor_w,softness_coefficient_w,configuration_coefficient_w])\n",
    "\n",
    "#Accordian\n",
    "berthing_container = widgets.Accordion(children=[berthing_event_container, vessel_container, coefficients_container])\n",
    "\n",
    "berthing_container.set_title(0, \"Berthing event\")\n",
    "berthing_container.set_title(1, \"Vessel particulars\")\n",
    "berthing_container.set_title(2, \"Berthing coefficients\")\n",
    "DisplayWidget(berthing_container)\n"
   ]
  },
  {
   "cell_type": "code",
   "execution_count": 10,
   "metadata": {},
   "outputs": [
    {
     "data": {
      "application/vnd.jupyter.widget-view+json": {
       "model_id": "99633bfcb2144d43a7409b26e815ef62",
       "version_major": 2,
       "version_minor": 0
      },
      "text/plain": [
       "Button(description='Calculate', style=ButtonStyle())"
      ]
     },
     "metadata": {},
     "output_type": "display_data"
    },
    {
     "data": {
      "application/vnd.jupyter.widget-view+json": {
       "model_id": "6ad4ad53aae54d4791574a3f6a05dcaa",
       "version_major": 2,
       "version_minor": 0
      },
      "text/plain": [
       "Output()"
      ]
     },
     "metadata": {},
     "output_type": "display_data"
    }
   ],
   "source": [
    "berthing_point = {\n",
    "    \"1/6 point\": 0.333,\n",
    "    \"1/5 point\": 0.3,\n",
    "    \"1/4 point\": 0.25,\n",
    "    \"1/3 point\": 0.1667\n",
    "}\n",
    "\n",
    "berthing_point_val = berthing_point.get(berthing_point_w.value)*LBP_w.value\n",
    "\n",
    "energy_output = widgets.Output()\n",
    "design_energy = 0\n",
    "\n",
    "@energy_output.capture(clear_output=True, wait=True)\n",
    "def BerthingEnergy(b):\n",
    "    try:\n",
    "        abnormal_factor = abnormal_factor_w.value\n",
    "        normal_energy = Berthing.BerthingEnergy(\n",
    "            berthing_velocity=velocity_w.value,\n",
    "            berthing_angle=berthing_angle_w.value,\n",
    "            velocity_angle=velocity_angle_w.value,\n",
    "            displacement=displacement_w.value,\n",
    "            beam=beam_w.value,\n",
    "            LBP=LBP_w.value,\n",
    "            draft=draft_w.value,\n",
    "            UKC=UKC_w.value,\n",
    "            berthing_point=berthing_point_val,\n",
    "            #hull_radius=hull_radius_w.value,\n",
    "            softness_coefficient=softness_coefficient_w.value,\n",
    "            configuration_coefficient=configuration_coefficient_w.value,\n",
    "            mass_calc=mass_calc_w.value,\n",
    "            output=False\n",
    "        )\n",
    "        design_energy = normal_energy*abnormal_factor\n",
    "\n",
    "        print(f\"Normal energy: {normal_energy:.2f}kNm\")\n",
    "        print(f\"Abnormal energy: {design_energy:.2f}kNm\")\n",
    "    except ZeroDivisionError:\n",
    "        print(\"Design inputs are incomplete. Review chosen values.\")\n",
    "\n",
    "\n",
    "calc_energy_btn = CreateButton(\"Calculate\")\n",
    "calc_energy_btn.on_click(BerthingEnergy)\n",
    "DisplayWidget(calc_energy_btn)\n",
    "display(energy_output)\n",
    "#DisplayWidget([calc_btn,energy_output])"
   ]
  },
  {
   "cell_type": "markdown",
   "metadata": {},
   "source": [
    "# Fender design"
   ]
  },
  {
   "cell_type": "code",
   "execution_count": 11,
   "metadata": {},
   "outputs": [
    {
     "data": {
      "application/vnd.jupyter.widget-view+json": {
       "model_id": "d9b51dcf158e4dc38f7c0b3404fbc625",
       "version_major": 2,
       "version_minor": 0
      },
      "text/plain": [
       "HBox(children=(FloatText(value=0.0, description='Berthing Energy:', style=DescriptionStyle(description_width='…"
      ]
     },
     "metadata": {},
     "output_type": "display_data"
    },
    {
     "data": {
      "application/vnd.jupyter.widget-view+json": {
       "model_id": "7b8fd5af8ce84767bc9befb2c2a6f175",
       "version_major": 2,
       "version_minor": 0
      },
      "text/plain": [
       "Button(description='Calculate', style=ButtonStyle())"
      ]
     },
     "metadata": {},
     "output_type": "display_data"
    },
    {
     "data": {
      "application/vnd.jupyter.widget-view+json": {
       "model_id": "aba3363250974555acaf486ee3b7a324",
       "version_major": 2,
       "version_minor": 0
      },
      "text/plain": [
       "Tab(children=(HBox(children=(Select(description='Chose Fender:', options=('SCN300', 'SCN350', 'SCN400', 'SCN50…"
      ]
     },
     "metadata": {},
     "output_type": "display_data"
    }
   ],
   "source": [
    "fender_types = [\"SCN\",\"MV\",\"Pnuematic\"]\n",
    "\n",
    "# Universal parameters\n",
    "berthing_energy_w = CreateFloatText(\"Berthing Energy:\",0)\n",
    "manufacturing_tolerance_w = CreateFloatText(\"Manufacturing Tolerance [%]:\",10)\n",
    "max_temp_w = CreateFloatText(\"Max Temperature [°C]:\",23.0)\n",
    "min_temp_w = CreateFloatText(\"Min Temperature [°C]:\",23.0)\n",
    "calc_btn = CreateButton(\"Calculate\")\n",
    "design_parameters = widgets.HBox([berthing_energy_w, manufacturing_tolerance_w, max_temp_w, min_temp_w])\n",
    "DisplayWidget(design_parameters)\n",
    "DisplayWidget(calc_btn)\n",
    "\n",
    "# SCN\n",
    "SCN_w = CreateSelect('Chose Fender:',Catalogue.SCN,'SCN300')\n",
    "SCN_grade_w = CreateSelect('Chose Fender Grade:',Catalogue.SCN_grades,0.9)\n",
    "SCN_material_w = CreateSelect('Chose fender material:', [\"Blend\", \"Rubber\", \"Synthetic\"],\"Blend\")\n",
    "\n",
    "SCN_container = widgets.HBox([SCN_w,SCN_grade_w, SCN_material_w])\n",
    "\n",
    "# MV\n",
    "MV_w = CreateSelect('Chose Fender:',Catalogue.MV,\"300x600\")\n",
    "MV_compound_w = CreateSelect('Chose Compound Type:',['A','B'], 'A')\n",
    "MV_unit_spacing_w = CreateIntText(\"Unit spacing [mm]:\", 0)\n",
    "MV_bow_flare_w = CreateFloatText(\"Bow Flare angle [°]:\", 0.0)\n",
    "\n",
    "MV_container = widgets.HBox([MV_w,MV_compound_w,MV_unit_spacing_w,MV_bow_flare_w])\n",
    "\n",
    "# Pnuematic\n",
    "pnuematic_w = CreateSelect('Chose Fender:', Catalogue.pnuematic, \"500x1000\")\n",
    "pnuematic_pressure_w = CreateSelect('Chose inflation pressure:', [50, 80], 50)\n",
    "\n",
    "Pnuematic_container = widgets.HBox([pnuematic_w,pnuematic_pressure_w])\n",
    "\n",
    "fender_tab = widgets.Tab(children=[SCN_container, MV_container, Pnuematic_container])\n",
    "for i in range(len(fender_tab.children)):\n",
    "    fender_tab.set_title(i, fender_types[i])\n",
    "\n",
    "DisplayWidget(fender_tab)"
   ]
  },
  {
   "cell_type": "code",
   "execution_count": 23,
   "metadata": {},
   "outputs": [
    {
     "data": {
      "application/vnd.jupyter.widget-view+json": {
       "model_id": "8cafb46f65c5447dbf23d44b4e6051f7",
       "version_major": 2,
       "version_minor": 0
      },
      "text/plain": [
       "Output()"
      ]
     },
     "metadata": {},
     "output_type": "display_data"
    }
   ],
   "source": [
    "output = widgets.Output()\n",
    "\n",
    "@output.capture(clear_output=True, wait=True)\n",
    "def FenderChart(b):\n",
    "    fender = FenderCalc()\n",
    "    berthing_energy = berthing_energy_w.value\n",
    "    berthing_angle = berthing_angle_w.value\n",
    "    velocity = velocity_w.value\n",
    "    max_temp = max_temp_w.value\n",
    "    min_temp = min_temp_w.value\n",
    "\n",
    "    design_fender = fender_types[fender_tab.selected_index]\n",
    "\n",
    "    #TODO add back in capacity factor. It's in SCN section below\n",
    "    if berthing_energy > fender.rated_energy:\n",
    "        print(\"Rated capacity of the fender is exceeded. Select another size or grade.\")\n",
    "    elif design_fender == \"MV\":\n",
    "        flare_angle = MV_bow_flare_w.value\n",
    "        fender.fender_chart(berthing_angle, flare_angle, velocity, max_temp, min_temp, berthing_energy)\n",
    "    elif design_fender == \"Pnuematic\":\n",
    "        fender.fender_chart(berthing_energy)\n",
    "    else:\n",
    "        fender.fender_chart(berthing_angle, velocity, max_temp, min_temp, berthing_energy) \n",
    "    \n",
    "def FenderCalc():\n",
    "\n",
    "    fender_type = fender_types[fender_tab.selected_index]\n",
    "    manufacturing_tolerance = manufacturing_tolerance_w.value/100\n",
    "\n",
    "    if fender_type == 'SCN':\n",
    "        size = SCN_w.value\n",
    "        grade = SCN_grade_w.value\n",
    "        material = SCN_material_w.value\n",
    "        fender = SCN(size,\n",
    "                     grade,\n",
    "                     manufacturing_tolerance,\n",
    "                     manufacturing_tolerance, \n",
    "                     material)\n",
    "        #energy_factor, reaction_factor = fender.capacity_factor(berthing_angle, velocity, temp)\n",
    "        return fender\n",
    "        \n",
    "    elif fender_type == 'MV':\n",
    "        size = MV_w.value\n",
    "        compound = MV_compound_w.value\n",
    "        leg_spacing = MV_unit_spacing_w.value\n",
    "\n",
    "        fender = MV(size,\n",
    "                    compound,\n",
    "                    leg_spacing,\n",
    "                    manufacturing_tolerance,\n",
    "                    manufacturing_tolerance)\n",
    "        return fender\n",
    "        \n",
    "    elif fender_type == 'Pnuematic':\n",
    "        size = pnuematic_w.value\n",
    "        pressure = pnuematic_pressure_w.value\n",
    "        fender = Pnuematic(size,\n",
    "                           0,\n",
    "                           manufacturing_tolerance,\n",
    "                           pressure)\n",
    "        return fender\n",
    "        \n",
    "calc_btn.on_click(FenderChart)\n",
    "display(output)"
   ]
  },
  {
   "cell_type": "code",
   "execution_count": 24,
   "metadata": {},
   "outputs": [
    {
     "data": {
      "application/vnd.jupyter.widget-view+json": {
       "model_id": "ef6ce57bc48a4632867d326048ba6bd6",
       "version_major": 2,
       "version_minor": 0
      },
      "text/plain": [
       "RadioButtons(description='Design criteria', options=('Depth', 'Grade'), value='Depth')"
      ]
     },
     "metadata": {},
     "output_type": "display_data"
    },
    {
     "data": {
      "application/vnd.jupyter.widget-view+json": {
       "model_id": "c02f24517f1745f69368047e4ef6340b",
       "version_major": 2,
       "version_minor": 0
      },
      "text/plain": [
       "Select(options=(), style=DescriptionStyle(description_width='initial'), value=None)"
      ]
     },
     "metadata": {},
     "output_type": "display_data"
    }
   ],
   "source": [
    "selection_w = CreateSelect('',[])\n",
    "\n",
    "def CriteriaChange(change):\n",
    "    design_criteria = design_criteria_w.value\n",
    "    fender_type =fender_types[fender_tab.selected_index]\n",
    "       \n",
    "    if design_criteria == 'Depth':\n",
    "        selection_w.description = \"Select fender:\"\n",
    "    else:\n",
    "        selection_w.description = \"Select grade:\"\n",
    "    if fender_type == 'SCN':\n",
    "        if design_criteria == 'Depth':\n",
    "            selection_w.options = Catalogue.SCN\n",
    "        else:\n",
    "            selection_w.options = Catalogue.SCN_grades  \n",
    "    elif fender_type == 'MV':\n",
    "        if design_criteria == 'Depth':\n",
    "            selection_w.options = Catalogue.MV\n",
    "        else:    \n",
    "            selection_w.options = ['A','B']\n",
    "    elif fender_type == 'Pnuematic':\n",
    "        if design_criteria == 'Depth':\n",
    "            selection_w.options = Catalogue.pnuematic\n",
    "        else:\n",
    "            selection_w.options = [50, 80]\n",
    "    \n",
    "\n",
    "design_criteria_w = CreateRadioButtons('Design criteria', ['Depth','Grade'],'Depth')\n",
    "design_criteria_w.observe(CriteriaChange, 'value')\n",
    "fender_tab.observe(CriteriaChange,'value')\n",
    "\n",
    "DisplayWidget(design_criteria_w)\n",
    "DisplayWidget(selection_w)\n",
    "CriteriaChange(True)\n",
    "\n",
    "#selection_containter = widgets.HBox([])\n",
    "#DisplayWidget(selection_containter)"
   ]
  },
  {
   "cell_type": "code",
   "execution_count": 26,
   "metadata": {},
   "outputs": [
    {
     "data": {
      "application/vnd.jupyter.widget-view+json": {
       "model_id": "9d0839fc33a04f2bb7fd424987032683",
       "version_major": 2,
       "version_minor": 0
      },
      "text/plain": [
       "Button(description='Calculate', style=ButtonStyle())"
      ]
     },
     "metadata": {},
     "output_type": "display_data"
    },
    {
     "data": {
      "application/vnd.jupyter.widget-view+json": {
       "model_id": "63da16827a2f43e8a2dabe881e3c36a1",
       "version_major": 2,
       "version_minor": 0
      },
      "text/plain": [
       "Output()"
      ]
     },
     "metadata": {},
     "output_type": "display_data"
    }
   ],
   "source": [
    "optimal_fender_w = widgets.Output()\n",
    "\n",
    "def first_index(val, search_list):\n",
    "    index = next(\n",
    "        (index for index, item in enumerate(search_list) if item > val), None\n",
    "    )\n",
    "    return index\n",
    "\n",
    "@optimal_fender_w.capture(clear_output=True, wait=True)\n",
    "def OptimalFender(b):\n",
    "    berthing_energy = berthing_energy_w.value\n",
    "    design_criteria = design_criteria_w.value\n",
    "    selection = selection_w.value\n",
    "    fender_type = fender_types[fender_tab.selected_index]    \n",
    "\n",
    "    berthing_angle = berthing_angle_w.value\n",
    "    velocity = velocity_w.value\n",
    "    max_temp = max_temp_w.value\n",
    "    \n",
    "    fender = FenderCalc()\n",
    "    \n",
    "    if fender_type == 'SCN':\n",
    "        energy_capacities = np.array(Catalogue.SCN_ratings[1])\n",
    "\n",
    "        angular_factor = fender.angle_factor(berthing_angle)[0]\n",
    "        velocity_factor = fender.velocity_factor(velocity)\n",
    "        temperature_factor = fender.temperature_factor(max_temp)\n",
    "\n",
    "        reduction_factor = angular_factor*velocity_factor*temperature_factor\n",
    "\n",
    "        if design_criteria == 'Depth':\n",
    "            row = Catalogue.SCN.index(selection)\n",
    "            design_energies = energy_capacities[row,:]*reduction_factor\n",
    "            col = first_index(berthing_energy, design_energies)\n",
    "            if col is not None: \n",
    "                print(f\"{selection}-F{Catalogue.SCN_grades[col]}\")\n",
    "            else:\n",
    "                print(\"This size is not sufficient, select larger fender.\")\n",
    "        else:\n",
    "            col = Catalogue.SCN_grades.index(selection)\n",
    "            design_energies = energy_capacities[:,col]*reduction_factor\n",
    "            row = first_index(berthing_energy, design_energies)\n",
    "            if row is not None:\n",
    "                print(f\"{Catalogue.SCN[row]}-F{selection}\")\n",
    "            else: \n",
    "                print(\" This grade is not sufficient, select higher grade.\")\n",
    "\n",
    "\n",
    "    elif fender_type == 'MV':\n",
    "        if design_criteria == 'Depth':\n",
    "            energy_capacities_A = Catalogue.MV_compound_A\n",
    "            energy_capacities_B = Catalogue.MV_compound_B\n",
    "\n",
    "        else:    \n",
    "            iter_list = Catalogue.MV\n",
    "    elif fender_type == 'Pnuematic':\n",
    "        if design_criteria == 'Depth':\n",
    "            iter_list = [50, 80]    \n",
    "        else:\n",
    "            iter_list = Catalogue.pnuematic\n",
    "\n",
    "fender_calc_btn = CreateButton(\"Calculate\")\n",
    "fender_calc_btn.on_click(OptimalFender)\n",
    "\n",
    "DisplayWidget(fender_calc_btn)\n",
    "display(optimal_fender_w)"
   ]
  }
 ],
 "metadata": {
  "kernelspec": {
   "display_name": "Python 3 (ipykernel)",
   "language": "python",
   "name": "python3"
  },
  "language_info": {
   "codemirror_mode": {
    "name": "ipython",
    "version": 3
   },
   "file_extension": ".py",
   "mimetype": "text/x-python",
   "name": "python",
   "nbconvert_exporter": "python",
   "pygments_lexer": "ipython3",
   "version": "3.10.4"
  }
 },
 "nbformat": 4,
 "nbformat_minor": 4
}
